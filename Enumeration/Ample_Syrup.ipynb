{
 "cells": [
  {
   "cell_type": "markdown",
   "metadata": {},
   "source": [
    "## Ample Syrup\n",
    "- 問題: GoogleCodejam 2017 Round 1C Problem A. [Ample Syrup](https://code.google.com/codejam/contest/3274486/dashboard)\n",
    "- 解法: 部分集合列挙を利用(small datasetのみ)\n",
    "- エディタ: Jupyter notebook"
   ]
  },
  {
   "cell_type": "code",
   "execution_count": 2,
   "metadata": {},
   "outputs": [],
   "source": [
    "import math\n",
    "\n",
    "def calcurate_syrup_area(K, subsets):\n",
    "    \n",
    "    Syrup_area_list = []#表面積を保持するリスト\n",
    "    \n",
    "    \n",
    "    for subset in subsets:\n",
    "        Syrup_area = 0\n",
    "        max_radi  = 0\n",
    "        for k in range(K):\n",
    "            Syrup_area += 2*math.pi*subset[k][0]*subset[k][1]#側面を各パンケーキについて足し合わせる\n",
    "            if subset[k][0] >= max_radi:#その際最大半径を保存しておく\n",
    "                max_radi = subset[k][0]\n",
    "        \n",
    "        Syrup_area += math.pi*max_radi*max_radi#最後に最大半径のパンケーキの円の面積を足して総表面積とする\n",
    "        Syrup_area_list.append(Syrup_area)\n",
    "        \n",
    "    return Syrup_area_list#表面積を保持するリストを返す\n",
    "        \n",
    "\n",
    "\n",
    "def subset_from_vector(v, a_set):\n",
    "    '''特性列と集合を元に，部分集合を返す関数．\n",
    "    '''\n",
    "    \n",
    "    if len(v) != len(a_set):\n",
    "        return []\n",
    "    subset = []\n",
    "    for vi, element in zip(v, a_set):\n",
    "        if vi == 1:#特製列が１の部分の要素をsubsetに追加していき部分集合を作成する\n",
    "            subset += [element]\n",
    "    return subset\n",
    "    \n",
    "\n",
    "def answer(N, K, pancake_set):#部分集合を列挙を行ったのち、シロップがかかる表面積が一番多い部分集合の表面積を返す関数．\n",
    "    \n",
    "    #深さ優先探索を元に部分集合の特性列（characteristic sequence）を列挙し、列挙された部分集合をまとめて最後に返す．\n",
    "    \n",
    "    subsets = [] # 部分集合を保存するためのリスト\n",
    "    S = [[]] # スタック\n",
    "    while len(S) > 0: # スタックが空でない限り以下を繰り返す．\n",
    "        v = S.pop() # スタックから0-1列を1つ取り出す．\n",
    "        if len(v) == len(pancake_set): # 0-1列が集合の要素数と同じ長さならば，\n",
    "            if v.count(1) == K: #部分集合の要素数はK個の指定があるので、該当する部分だけ抽出する\n",
    "                subsets += [subset_from_vector(v, pancake_set)] # その0-1ベクトルが特性列であると見なして，部分集合を作り，保存する．\n",
    "        else: # 0-1列が集合の要素数よりも短いならば，\n",
    "            S += [v + [0]] # それに0を追加した列をスタックに入れる．\n",
    "            S += [v + [1]] # それに1を追加した列もスタックに入れる．\n",
    "            \n",
    "    #要素数Kの部分集合が列挙出来たので、それぞれについて表面積を計算する\n",
    "    Syrup_area_list = calcurate_syrup_area(K, subsets)\n",
    "            \n",
    "    return max(Syrup_area_list) # 最後に最大値を返す"
   ]
  },
  {
   "cell_type": "code",
   "execution_count": 3,
   "metadata": {},
   "outputs": [],
   "source": [
    "def all_answer(input_file_name, output_file_name):#ファイルの読み込みから書き出しを行う関数\n",
    "    \n",
    "    input_file = open(input_file_name)\n",
    "    output_file = open(output_file_name, 'w')\n",
    "    T = int(input_file.readline())\n",
    "    \n",
    "    for case_number in range(1, T + 1):\n",
    "        N, K = map(int, input_file.readline().split())\n",
    "        pancake_set = []\n",
    "        for n in range(N):\n",
    "            pancake_set.append(list(map(int, input_file.readline().split())))\n",
    "            \n",
    "        max_pancake_area = answer(N, K, pancake_set)\n",
    "        output_file.write(f'case #{case_number}: {max_pancake_area}\\n')\n",
    "            \n",
    "    input_file.close()\n",
    "    output_file.close()\n",
    "    return"
   ]
  },
  {
   "cell_type": "code",
   "execution_count": 4,
   "metadata": {},
   "outputs": [],
   "source": [
    "all_answer(\"./Data/A-small-practice_Ample_syrup.in\", \"./Data/A-small-practice_Ample_syrup.out\")"
   ]
  },
  {
   "cell_type": "code",
   "execution_count": null,
   "metadata": {},
   "outputs": [],
   "source": []
  }
 ],
 "metadata": {
  "kernelspec": {
   "display_name": "Python 3",
   "language": "python",
   "name": "python3"
  },
  "language_info": {
   "codemirror_mode": {
    "name": "ipython",
    "version": 3
   },
   "file_extension": ".py",
   "mimetype": "text/x-python",
   "name": "python",
   "nbconvert_exporter": "python",
   "pygments_lexer": "ipython3",
   "version": "3.6.7"
  }
 },
 "nbformat": 4,
 "nbformat_minor": 2
}
