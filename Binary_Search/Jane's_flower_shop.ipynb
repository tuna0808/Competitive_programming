{
 "cells": [
  {
   "cell_type": "markdown",
   "metadata": {},
   "source": [
    "## Jane's flower shop\n",
    "- 問題:Google APAC university test 2017 round A ProblemC. [Jane's flower shop](https://code.google.com/codejam/contest/11274486/dashboard#s=p2)\n",
    "- 解法: 二分探索\n",
    "- エディタ: Jupyter notebook"
   ]
  },
  {
   "cell_type": "code",
   "execution_count": 1,
   "metadata": {},
   "outputs": [],
   "source": [
    "def total_cash(M, C, r): # 上記の関数f(r)に相当する．\n",
    "    cash = 0\n",
    "    rate = 1\n",
    "    for i in range(M, 0, -1):\n",
    "        cash += C[i] * rate\n",
    "        rate *= 1 + r\n",
    "    cash -= C[0] * rate\n",
    "    return cash\n",
    "\n",
    "\n",
    "def answer(M, C, a = -1, b = 1):\n",
    "    \n",
    "    while b - a  > 0.00000000001:\n",
    "        r = (a + b) / 2\n",
    "        cash = total_cash(M, C, r)\n",
    "        if (cash * total_cash(M, C, b)) > 0:\n",
    "            b = r\n",
    "        else:\n",
    "            a = r   \n",
    "    return r"
   ]
  },
  {
   "cell_type": "code",
   "execution_count": 2,
   "metadata": {},
   "outputs": [],
   "source": [
    "def all_answer(input_file_name, output_file_name):\n",
    "    input_file = open(input_file_name)\n",
    "    output_file = open(output_file_name, 'w')\n",
    "    \n",
    "    T = int(input_file.readline())\n",
    "    for case_number in range(1, T + 1):\n",
    "        M = int(input_file.readline())\n",
    "        C = list(map(int, input_file.readline().split()))\n",
    "        output_file.write(f'Case #{case_number}: {answer(M, C)}\\n')\n",
    "    input_file.close()\n",
    "    output_file.close()"
   ]
  },
  {
   "cell_type": "code",
   "execution_count": 3,
   "metadata": {},
   "outputs": [],
   "source": [
    "all_answer('./Data/C-small-practice_janes_flower.in', './Data/C-small-practice_janes_flower.out')"
   ]
  },
  {
   "cell_type": "code",
   "execution_count": 4,
   "metadata": {},
   "outputs": [],
   "source": [
    "all_answer('./Data/C-large-practice_janes_flower.in', './Data/C-large-practice_janes_flower.out')"
   ]
  }
 ],
 "metadata": {
  "kernelspec": {
   "display_name": "Python 3",
   "language": "python",
   "name": "python3"
  },
  "language_info": {
   "codemirror_mode": {
    "name": "ipython",
    "version": 3
   },
   "file_extension": ".py",
   "mimetype": "text/x-python",
   "name": "python",
   "nbconvert_exporter": "python",
   "pygments_lexer": "ipython3",
   "version": "3.6.7"
  }
 },
 "nbformat": 4,
 "nbformat_minor": 2
}
