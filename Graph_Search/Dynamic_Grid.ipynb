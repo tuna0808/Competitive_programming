{
  "nbformat": 4,
  "nbformat_minor": 0,
  "metadata": {
    "colab": {
      "name": "Dynamic_Grid.ipynb",
      "version": "0.3.2",
      "provenance": [],
      "collapsed_sections": []
    },
    "kernelspec": {
      "name": "python3",
      "display_name": "Python 3"
    }
  },
  "cells": [
    {
      "cell_type": "code",
      "metadata": {
        "id": "wxHIV35DG4Uj",
        "colab_type": "code",
        "colab": {
          "base_uri": "https://localhost:8080/",
          "height": 34
        },
        "outputId": "1be41695-8930-4376-fbbd-c827cd61c206"
      },
      "source": [
        "'''\n",
        "・問題: Round D APAC Test 2015 Problem A. Dynamic Grid : https://code.google.com/codejam/contest/11214486/dashboard\n",
        "・解法: NetworkXを利用しました\n",
        "・エディタ: GoogleColaboratry\n",
        "'''"
      ],
      "execution_count": 1,
      "outputs": [
        {
          "output_type": "execute_result",
          "data": {
            "text/plain": [
              "'\\n・問題: Round D APAC Test 2015 Problem A. Dynamic Grid : https://code.google.com/codejam/contest/11214486/dashboard\\n・解法: NetworkXを利用しました\\n・エディタ: GoogleColaboratry\\n'"
            ]
          },
          "metadata": {
            "tags": []
          },
          "execution_count": 1
        }
      ]
    },
    {
      "cell_type": "code",
      "metadata": {
        "id": "KpAdx0i40TB0",
        "colab_type": "code",
        "colab": {}
      },
      "source": [
        "import networkx as nx\n",
        "import matplotlib.pyplot as plt\n",
        "%matplotlib inline"
      ],
      "execution_count": 0,
      "outputs": []
    },
    {
      "cell_type": "code",
      "metadata": {
        "id": "ruQplk_qSeaB",
        "colab_type": "code",
        "outputId": "63fbbae0-1fa1-4541-ac41-cbdaf68f1634",
        "colab": {
          "base_uri": "https://localhost:8080/",
          "height": 34
        }
      },
      "source": [
        "from google.colab import drive\n",
        "drive.mount('/content/drive')"
      ],
      "execution_count": 3,
      "outputs": [
        {
          "output_type": "stream",
          "text": [
            "Drive already mounted at /content/drive; to attempt to forcibly remount, call drive.mount(\"/content/drive\", force_remount=True).\n"
          ],
          "name": "stdout"
        }
      ]
    },
    {
      "cell_type": "code",
      "metadata": {
        "id": "IX8Wg3fbHbnX",
        "colab_type": "code",
        "colab": {}
      },
      "source": [
        "def Operation_Q(R, C, grid):#Qの操作を実行する関数\n",
        "  \n",
        "  \n",
        "  G = nx.Graph() # Gという名前でクラスGraphのインスタンスを作る．\n",
        "  \n",
        "  #ノードになり得るのはgridの１の部分のみなので、まず1の部分をGの頂点集合に加える\n",
        "  for r in range(R):\n",
        "    for c in range(C):\n",
        "      if grid[r][c] == 1:\n",
        "        G.add_node((r,c))\n",
        "        \n",
        "\n",
        "  #次にどのノードが結ばれているのか(枝はどこなのか)という情報を追加する。      \n",
        "  for (r, c) in G.nodes():\n",
        "    if (r-1, c) in G.nodes():#　r,cに対して、(r-1,c)がノード集合にあれば、縦に隣接.\n",
        "      G.add_edge((r-1,c),(r,c))\n",
        "    if (r+1, c) in G.nodes():#　r,cに対して、(r+1,c)がノード集合にあれば、縦に隣接.\n",
        "      G.add_edge((r,c),(r+1,c))\n",
        "    if (r, c-1) in G.nodes():#r,cに対して、(r,c-1)がノード集合にあれば、横に隣接.\n",
        "      G.add_edge((r,c-1),(r,c))\n",
        "    if (r, c+1) in G.nodes():#r,cに対して、(r,c+1)がノード集合にあれば、横に隣接.\n",
        "      G.add_edge((r,c),(r,c+1))\n",
        "    \n",
        "  #nx.draw_networkx(G)\n",
        "  #plt.figure(figsize=(30, 12))\n",
        "  #plt.show()\n",
        "  \n",
        "  #gridの値(0,1)から、グラフの隣接点を保持するリストを作成(グラフGとして定義)\n",
        "  counts = nx.number_connected_components(G)#これで隣接してるコンポーネントの数をカウント\n",
        "  \n",
        "  return counts"
      ],
      "execution_count": 0,
      "outputs": []
    },
    {
      "cell_type": "code",
      "metadata": {
        "id": "J7LNN1_fHb10",
        "colab_type": "code",
        "colab": {}
      },
      "source": [
        "def Operation_M(grid, x, y, z):#Mの操作を実行する関数\n",
        "    grid[x][y] = z\n",
        "    \n",
        "    return grid"
      ],
      "execution_count": 0,
      "outputs": []
    },
    {
      "cell_type": "code",
      "metadata": {
        "id": "OxlbOrzTHb_4",
        "colab_type": "code",
        "colab": {}
      },
      "source": [
        "def answer(R, C, grid, operations):#答えを返す関数\n",
        "    \n",
        "    counts_list = []#各Qの操作毎の、１が隣接している領域の数を保存しておくリスト\n",
        "    for operation in operations:\n",
        "        if operation == \"Q\":\n",
        "          \n",
        "          \n",
        "          counts = Operation_Q(R, C, grid)\n",
        "          counts_list.append(counts)\n",
        "            \n",
        "        else:\n",
        "            operation_sp = operation.split()\n",
        "            x = int(operation_sp[1])#変更する箇所の行番号\n",
        "            y = int(operation_sp[2])#変更する箇所の列番号\n",
        "            z = int(operation_sp[3])#変更する値\n",
        "            grid = Operation_M(grid, x, y, z)\n",
        "    \n",
        "    return counts_list"
      ],
      "execution_count": 0,
      "outputs": []
    },
    {
      "cell_type": "code",
      "metadata": {
        "id": "gRH6W0FzHcJA",
        "colab_type": "code",
        "colab": {}
      },
      "source": [
        "def all_answer(input_file_name, output_file_name):#ファイルの読み込みから書き出しを行う関数\n",
        "    \n",
        "    input_file = open(input_file_name)\n",
        "    output_file = open(output_file_name, 'w')\n",
        "    T = int(input_file.readline())\n",
        "    \n",
        "    for case_number in range(1, T + 1):\n",
        "        R, C = map(int, input_file.readline().split())\n",
        "        grid = []\n",
        "        operations = []\n",
        "        for r in range(R):\n",
        "            grid.append([int(i) for i in input_file.readline().rstrip()])\n",
        "            \n",
        "        O_num = int(input_file.readline())\n",
        "        for o_num in range(O_num):\n",
        "            operations.append(input_file.readline().rstrip())\n",
        "            \n",
        "        counts_list = answer(R, C, grid, operations)\n",
        "        \n",
        "        output_file.write(f'case #{case_number}:\\n')\n",
        "        for o_num in range(len(counts_list)):\n",
        "            output_file.write(str(counts_list[o_num])+ '\\n')\n",
        "            \n",
        "    input_file.close()\n",
        "    output_file.close()\n",
        "    \n",
        "    return"
      ],
      "execution_count": 0,
      "outputs": []
    },
    {
      "cell_type": "code",
      "metadata": {
        "id": "IWh9QcTFSQkr",
        "colab_type": "code",
        "colab": {}
      },
      "source": [
        "all_answer( '/content/drive/My Drive/GoogleColab/Data/A-small-practice.in', '/content/drive/My Drive/GoogleColab/Data/A-small-practice.out')"
      ],
      "execution_count": 0,
      "outputs": []
    },
    {
      "cell_type": "code",
      "metadata": {
        "id": "jkbBM65aSMrm",
        "colab_type": "code",
        "colab": {}
      },
      "source": [
        "all_answer( '/content/drive/My Drive/GoogleColab/Data/A-large-practice.in', '/content/drive/My Drive/GoogleColab/Data/A-large-practice.out')"
      ],
      "execution_count": 0,
      "outputs": []
    }
  ]
}